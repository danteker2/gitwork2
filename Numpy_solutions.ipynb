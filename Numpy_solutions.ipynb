{
  "nbformat": 4,
  "nbformat_minor": 0,
  "metadata": {
    "colab": {
      "provenance": []
    },
    "kernelspec": {
      "name": "python3",
      "display_name": "Python 3"
    },
    "language_info": {
      "name": "python"
    }
  },
  "cells": [
    {
      "cell_type": "code",
      "execution_count": null,
      "metadata": {
        "colab": {
          "base_uri": "https://localhost:8080/"
        },
        "id": "T3Qqqq2JRavM",
        "outputId": "eac29cc7-9c27-4955-f309-1069637a6324"
      },
      "outputs": [
        {
          "output_type": "stream",
          "name": "stdout",
          "text": [
            "[0. 0. 0. 0. 0. 0. 0. 0. 0. 0.]\n"
          ]
        }
      ],
      "source": [
        "# Создайте массив из 10 нулей\n",
        "import numpy as np\n",
        "b = np.zeros((10))\n",
        "print(b)"
      ]
    },
    {
      "cell_type": "code",
      "source": [
        "# Создать массив из 10 единиц\n",
        "import numpy as np\n",
        "c = np.ones((10))\n",
        "print(c)"
      ],
      "metadata": {
        "colab": {
          "base_uri": "https://localhost:8080/"
        },
        "id": "a1jjqnOFSaID",
        "outputId": "55600235-c1a6-4b7c-b902-71f9a0a676c5"
      },
      "execution_count": null,
      "outputs": [
        {
          "output_type": "stream",
          "name": "stdout",
          "text": [
            "[1. 1. 1. 1. 1. 1. 1. 1. 1. 1.]\n"
          ]
        }
      ]
    },
    {
      "cell_type": "code",
      "source": [
        "# Создать массив из 10 пятерок\n",
        "import numpy as np\n",
        "d = np.ones(10)*5\n",
        "print(d)"
      ],
      "metadata": {
        "colab": {
          "base_uri": "https://localhost:8080/"
        },
        "id": "IjvvIR66Sie6",
        "outputId": "95425f9c-08f7-4edb-dc92-6c205552401c"
      },
      "execution_count": null,
      "outputs": [
        {
          "output_type": "stream",
          "name": "stdout",
          "text": [
            "[5. 5. 5. 5. 5. 5. 5. 5. 5. 5.]\n"
          ]
        }
      ]
    },
    {
      "cell_type": "code",
      "source": [
        "# Создать массив из целых чисел от 10 до 50\n",
        "import numpy as np\n",
        "e = np.arange(10, 50)\n",
        "print(e)"
      ],
      "metadata": {
        "colab": {
          "base_uri": "https://localhost:8080/"
        },
        "id": "BXNHBXpMSiVn",
        "outputId": "74a6d727-db2b-448d-aebb-3fc200d44a8b"
      },
      "execution_count": null,
      "outputs": [
        {
          "output_type": "stream",
          "name": "stdout",
          "text": [
            "[10 11 12 13 14 15 16 17 18 19 20 21 22 23 24 25 26 27 28 29 30 31 32 33\n",
            " 34 35 36 37 38 39 40 41 42 43 44 45 46 47 48 49]\n"
          ]
        }
      ]
    },
    {
      "cell_type": "code",
      "source": [
        "# Создать массив из четных чисел от 10 до 50\n",
        "import numpy as np\n",
        "f = np.arange(10, 50, 2)\n",
        "print(f)"
      ],
      "metadata": {
        "colab": {
          "base_uri": "https://localhost:8080/"
        },
        "id": "oRFINE9RS2Lz",
        "outputId": "21cb6f93-cc4c-4d06-9880-63952bcc7ec2"
      },
      "execution_count": null,
      "outputs": [
        {
          "output_type": "stream",
          "name": "stdout",
          "text": [
            "[10 12 14 16 18 20 22 24 26 28 30 32 34 36 38 40 42 44 46 48]\n"
          ]
        }
      ]
    },
    {
      "cell_type": "code",
      "source": [
        "# Создать матрицу 3х3 с числами от 0 до 8\n",
        "import numpy as np\n",
        "g = np.arange(0, 9).reshape(3, 3)\n",
        "print(g)"
      ],
      "metadata": {
        "colab": {
          "base_uri": "https://localhost:8080/"
        },
        "id": "8bsILI_IS9ts",
        "outputId": "8ad4aaec-9cac-4003-9487-7ce8ce8e75a1"
      },
      "execution_count": null,
      "outputs": [
        {
          "output_type": "stream",
          "name": "stdout",
          "text": [
            "[[0 1 2]\n",
            " [3 4 5]\n",
            " [6 7 8]]\n"
          ]
        }
      ]
    },
    {
      "cell_type": "code",
      "source": [
        "# Создать единичную матрицу 3x3\n",
        "import numpy as np\n",
        "h = np.eye(3)\n",
        "print(h)"
      ],
      "metadata": {
        "colab": {
          "base_uri": "https://localhost:8080/"
        },
        "id": "sQ5t6UbJTKZK",
        "outputId": "59300697-ca6e-4774-97ef-a964796a2a49"
      },
      "execution_count": null,
      "outputs": [
        {
          "output_type": "stream",
          "name": "stdout",
          "text": [
            "[[1. 0. 0.]\n",
            " [0. 1. 0.]\n",
            " [0. 0. 1.]]\n"
          ]
        }
      ]
    },
    {
      "cell_type": "code",
      "source": [
        "# Используйте NumPy для генерации случайного числа от 0 до 1\n",
        "import numpy as np\n",
        "i = np.random.normal(0,1)\n",
        "print(i)"
      ],
      "metadata": {
        "colab": {
          "base_uri": "https://localhost:8080/"
        },
        "id": "zJPaXlUJTKUp",
        "outputId": "96a9142b-c88b-4c8b-fead-1c5ee3cc37c1"
      },
      "execution_count": null,
      "outputs": [
        {
          "output_type": "stream",
          "name": "stdout",
          "text": [
            "0.12879513663832606\n"
          ]
        }
      ]
    },
    {
      "cell_type": "code",
      "source": [
        "# Используйте NumPy для генерации массива из 25 случайных чисел,взятых из стандартного нормального распределения\n",
        "import numpy as np\n",
        "j = np.random.normal(0,1,25)\n",
        "print(j)"
      ],
      "metadata": {
        "colab": {
          "base_uri": "https://localhost:8080/"
        },
        "id": "gAedTs6DTKOV",
        "outputId": "eb415182-46b5-477e-91bd-9e13337ae8db"
      },
      "execution_count": null,
      "outputs": [
        {
          "output_type": "stream",
          "name": "stdout",
          "text": [
            "[-0.99241476 -0.24834339 -0.25117902  0.07519485  1.14923038  0.62267128\n",
            "  0.99696305  0.08068752  2.08970302 -1.1629747   1.07208191  0.35845386\n",
            " -0.05294088 -0.29060227 -0.21039429 -1.56930027  1.12479496  0.91493157\n",
            "  1.13240527  0.94261787  1.44910797 -0.27402983  0.05144615 -0.34597619\n",
            " -0.820193  ]\n"
          ]
        }
      ]
    },
    {
      "cell_type": "code",
      "source": [
        "# Создайте матрицу используя функции библиотеки NumPy\n",
        "import numpy as np\n",
        "k = np.linspace(0, 1, 101)\n",
        "print(k)"
      ],
      "metadata": {
        "colab": {
          "base_uri": "https://localhost:8080/"
        },
        "id": "aoQzv56zTonX",
        "outputId": "848c6285-cbaa-4359-eafe-64b7b8a8d4ca"
      },
      "execution_count": null,
      "outputs": [
        {
          "output_type": "stream",
          "name": "stdout",
          "text": [
            "[0.   0.01 0.02 0.03 0.04 0.05 0.06 0.07 0.08 0.09 0.1  0.11 0.12 0.13\n",
            " 0.14 0.15 0.16 0.17 0.18 0.19 0.2  0.21 0.22 0.23 0.24 0.25 0.26 0.27\n",
            " 0.28 0.29 0.3  0.31 0.32 0.33 0.34 0.35 0.36 0.37 0.38 0.39 0.4  0.41\n",
            " 0.42 0.43 0.44 0.45 0.46 0.47 0.48 0.49 0.5  0.51 0.52 0.53 0.54 0.55\n",
            " 0.56 0.57 0.58 0.59 0.6  0.61 0.62 0.63 0.64 0.65 0.66 0.67 0.68 0.69\n",
            " 0.7  0.71 0.72 0.73 0.74 0.75 0.76 0.77 0.78 0.79 0.8  0.81 0.82 0.83\n",
            " 0.84 0.85 0.86 0.87 0.88 0.89 0.9  0.91 0.92 0.93 0.94 0.95 0.96 0.97\n",
            " 0.98 0.99 1.  ]\n"
          ]
        }
      ]
    },
    {
      "cell_type": "code",
      "source": [
        "# Необходимо написать код который вернет матрицу из стартовой\n",
        "import numpy as np\n",
        "mat = np.arange(1,26).reshape(5,5) # Стартовая матрица\n",
        "print(mat[2:5, 1:5])"
      ],
      "metadata": {
        "colab": {
          "base_uri": "https://localhost:8080/"
        },
        "id": "4yjZyINTT7pz",
        "outputId": "ebb590e5-0757-4b0c-b5f8-1db70b4aade8"
      },
      "execution_count": null,
      "outputs": [
        {
          "output_type": "stream",
          "name": "stdout",
          "text": [
            "[[12 13 14 15]\n",
            " [17 18 19 20]\n",
            " [22 23 24 25]]\n"
          ]
        }
      ]
    },
    {
      "cell_type": "code",
      "source": [
        "# Написать код обращения к элементу который вернет значение  20 из стартовой матрицы\n",
        "import numpy as np\n",
        "mat = np.arange(1,26).reshape(5,5) # Стартовая матрица\n",
        "print(mat[3][4])"
      ],
      "metadata": {
        "colab": {
          "base_uri": "https://localhost:8080/"
        },
        "id": "DHSxqSbHT7kc",
        "outputId": "a3c42e26-4fbf-48ca-e225-ff1b8a312a05"
      },
      "execution_count": null,
      "outputs": [
        {
          "output_type": "stream",
          "name": "stdout",
          "text": [
            "20\n"
          ]
        }
      ]
    },
    {
      "cell_type": "code",
      "source": [
        "# Написать код к стартовой матрице, который воспроизводит вывод\n",
        "import numpy as np\n",
        "mat = np.arange(1,26).reshape(5,5) # Стартовая матрица\n",
        "v = mat[0:3, 1].reshape(3,1)\n",
        "print(v)"
      ],
      "metadata": {
        "colab": {
          "base_uri": "https://localhost:8080/"
        },
        "id": "yLcpnus1T7dJ",
        "outputId": "a11b76a1-1545-4456-cba0-8576b956b4bc"
      },
      "execution_count": null,
      "outputs": [
        {
          "output_type": "stream",
          "name": "stdout",
          "text": [
            "[[ 2]\n",
            " [ 7]\n",
            " [12]]\n"
          ]
        }
      ]
    },
    {
      "cell_type": "code",
      "source": [
        "# Написать код к стартовой матрице, который воспроизводит вывод\n",
        "import numpy as np\n",
        "mat = np.arange(1,26).reshape(5,5) # Стартовая матрица\n",
        "print(mat[4, :])"
      ],
      "metadata": {
        "colab": {
          "base_uri": "https://localhost:8080/"
        },
        "id": "uNzO39rUU4Nr",
        "outputId": "828c8892-264a-4e80-ad25-6a579519e100"
      },
      "execution_count": null,
      "outputs": [
        {
          "output_type": "stream",
          "name": "stdout",
          "text": [
            "[21 22 23 24 25]\n"
          ]
        }
      ]
    },
    {
      "cell_type": "code",
      "source": [
        "# Написать код к стартовой матрице, который воспроизводит вывод\n",
        "import numpy as np\n",
        "mat = np.arange(1,26).reshape(5,5) # Стартовая матрица\n",
        "print(mat[3:5, :])"
      ],
      "metadata": {
        "colab": {
          "base_uri": "https://localhost:8080/"
        },
        "id": "vnz5ZtVGU4LR",
        "outputId": "7e593dc0-300a-44c2-8314-7a235f73bbc8"
      },
      "execution_count": null,
      "outputs": [
        {
          "output_type": "stream",
          "name": "stdout",
          "text": [
            "[[16 17 18 19 20]\n",
            " [21 22 23 24 25]]\n"
          ]
        }
      ]
    },
    {
      "cell_type": "code",
      "source": [
        "# Получить сумму всех значений в стартовой матрице mat\n",
        "import numpy as np\n",
        "mat = np.arange(1,26).reshape(5,5) # Стартовая матрица\n",
        "print(np.sum(mat))"
      ],
      "metadata": {
        "colab": {
          "base_uri": "https://localhost:8080/"
        },
        "id": "PKJggxTVU4Bp",
        "outputId": "f90744d3-2df9-4b60-f21c-734bb44383f9"
      },
      "execution_count": null,
      "outputs": [
        {
          "output_type": "stream",
          "name": "stdout",
          "text": [
            "325\n"
          ]
        }
      ]
    },
    {
      "cell_type": "code",
      "source": [
        "# Получить стандартное отклонение в стартовой матрице mat\n",
        "import numpy as np\n",
        "mat = np.arange(1,26).reshape(5,5) # Стартовая матрица\n",
        "print(np.std(mat))"
      ],
      "metadata": {
        "colab": {
          "base_uri": "https://localhost:8080/"
        },
        "id": "Ubl92T4VVKgy",
        "outputId": "eef54b77-c30d-474e-e12b-e32599e93011"
      },
      "execution_count": null,
      "outputs": [
        {
          "output_type": "stream",
          "name": "stdout",
          "text": [
            "7.211102550927978\n"
          ]
        }
      ]
    },
    {
      "cell_type": "code",
      "source": [
        "# Получить сумму значений в колонках в стартовой матрице mat\n",
        "import numpy as np\n",
        "mat = np.arange(1,26).reshape(5,5) # Стартовая матрица\n",
        "print(mat.sum(axis=0))"
      ],
      "metadata": {
        "colab": {
          "base_uri": "https://localhost:8080/"
        },
        "id": "skxwiyJGVKbe",
        "outputId": "2599625c-029d-4344-d042-5fdf83384533"
      },
      "execution_count": null,
      "outputs": [
        {
          "output_type": "stream",
          "name": "stdout",
          "text": [
            "[55 60 65 70 75]\n"
          ]
        }
      ]
    }
  ]
}